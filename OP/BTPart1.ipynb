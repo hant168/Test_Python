{
 "cells": [
  {
   "cell_type": "markdown",
   "source": [
    "Thay đổi các thuộc tính account_number, account_name, balance trong class BankAccount thành thuộc tính ẩn, và triển khai thêm các phương thức:\r\n",
    "\r\n",
    "get_account_number()\r\n",
    "get_account_name()\r\n",
    "get_balance()\r\n",
    "set_balance() - balance phải lớn hơn hoặc bằng 0\r\n",
    "Thay đổi các phương thức display(), withdraw() và deposit() sử dụng các phương thức getter và setter trên.\r\n",
    "\r\n",
    "Chú ý:\r\n",
    "\r\n",
    "Với withdraw(), amount phải lớn hơn 0 và nhỏ hơn balance\r\n",
    "Với deposit(), amount phải lớn hơn 0\r\n",
    "Nếu giá trị không phù hợp thì thông báo ra console"
   ],
   "metadata": {}
  },
  {
   "cell_type": "code",
   "execution_count": 18,
   "source": [
    "class BankAccount:\r\n",
    "    def __init__(self, account_number, account_name, balance):\r\n",
    "        self.__account_number = account_number\r\n",
    "        self.__account_name= account_name\r\n",
    "        self.__balance= balance\r\n",
    "    @property\r\n",
    "    def get_account_number(self):\r\n",
    "        return self.__account_number \r\n",
    "    @property\r\n",
    "    def get_account_name(self):\r\n",
    "        return self.__account_name\r\n",
    "    @property\r\n",
    "    def get_balance(self):\r\n",
    "        return self.__balance\r\n",
    "\r\n",
    "    def display(self):\r\n",
    "        print(self.__account_number, self.__account_name, self.__balance)\r\n",
    "    \r\n",
    "    def withdraw(self, amount):\r\n",
    "        if 0< amount< self.__balance:\r\n",
    "            self.__balance-=amount\r\n",
    "        else:\r\n",
    "            print(\"Withdraw Transaction is not valid\")\r\n",
    "    \r\n",
    "    def deposit(self, amount):\r\n",
    "        if amount>0:\r\n",
    "            self.__balance+=amount\r\n",
    "        else:\r\n",
    "            print(\"Deposit transaction is not valid\")\r\n",
    "     \r\n",
    "accH= BankAccount(192449006,\"Nguyen Thi Ha\",10000000)\r\n",
    "accH.display()\r\n",
    "accH.withdraw(9000)\r\n",
    "accH.deposit(1000)\r\n",
    "accH.display()\r\n",
    "\r\n",
    "print(accH.get_account_number)\r\n",
    "accH.__account_name=\"Nguyen Ha\"\r\n",
    "print(accH.get_account_name)"
   ],
   "outputs": [
    {
     "output_type": "stream",
     "name": "stdout",
     "text": [
      "192449006 Nguyen Thi Ha 10000000\n",
      "192449006 Nguyen Thi Ha 9992000\n",
      "192449006\n",
      "Nguyen Thi Ha\n"
     ]
    }
   ],
   "metadata": {}
  }
 ],
 "metadata": {
  "orig_nbformat": 4,
  "language_info": {
   "name": "python",
   "version": "3.7.8",
   "mimetype": "text/x-python",
   "codemirror_mode": {
    "name": "ipython",
    "version": 3
   },
   "pygments_lexer": "ipython3",
   "nbconvert_exporter": "python",
   "file_extension": ".py"
  },
  "kernelspec": {
   "name": "python3",
   "display_name": "Python 3.7.8 64-bit"
  },
  "interpreter": {
   "hash": "04635d289a519a1410467dd0afb0db42f9184808881ca68b2eb5a687a20a5a94"
  }
 },
 "nbformat": 4,
 "nbformat_minor": 2
}